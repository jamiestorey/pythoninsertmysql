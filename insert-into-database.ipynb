{
 "cells": [
  {
   "cell_type": "code",
   "execution_count": 73,
   "metadata": {},
   "outputs": [],
   "source": []
  },
  {
   "cell_type": "code",
   "execution_count": 74,
   "metadata": {
    "pycharm": {
     "name": "#%%\n"
    }
   },
   "outputs": [],
   "source": [
    "import json\n",
    "import os\n",
    "import mysql.connector\n",
    "import datetime\n",
    "from datetime import timedelta\n",
    "import time\n",
    "from pathlib import Path\n",
    "from datetime import datetime\n",
    "from dotenv import load_dotenv\n",
    "\n",
    "\n",
    "# Start of time calculation\n",
    "start_time = time.monotonic()\n",
    "\n",
    "# Load environment variables from .env file\n",
    "load_dotenv(dotenv_path='credentials.env')\n",
    "\n",
    "\n",
    "# Assign environment variables\n",
    "football_api_key = os.getenv('footballapikey')\n",
    "mysql_host = os.getenv('mysqlhost')\n",
    "mysql_user = os.getenv('mysqluser')\n",
    "mysql_password = os.getenv('mysqlpassword')\n",
    "mysql_db = os.getenv('mysqldb')\n",
    "\n",
    "db = mysql.connector.connect(\n",
    "        host=mysql_host,\n",
    "        user=mysql_user,\n",
    "        password=mysql_password,\n",
    "        database=mysql_db,\n",
    "        port=3306,\n",
    "    )\n",
    "# Drop the table if it already exists\n",
    "sql_drop_fixtures = \"DROP TABLE IF EXISTS `bulky`.`fixtures`;\"\n",
    "\n",
    "# And then create the table\n",
    "sql_create_fixtures = '''CREATE TABLE `bulky`.`fixtures` (\n",
    "  `fixture_id` INT NOT NULL,\n",
    "  `fixture_utc_date` DATETIME NULL,\n",
    "  `fixture_date` VARCHAR(45) NULL,\n",
    "  `fixture_time` VARCHAR(45) NULL,\n",
    "  `fixture_status` VARCHAR(45) NULL,\n",
    "  `fixture_league_id` INT NULL,\n",
    "  `fixture_round` VARCHAR(45) NULL,\n",
    "  `fixture_team_home_id` INT NULL,\n",
    "  `fixture_team_away_id` INT NULL,\n",
    "  `fixture_team_home_name` VARCHAR(45) NULL,\n",
    "  `fixture_team_away_name` VARCHAR(45) NULL,\n",
    "  `fixture_goals_home` INT NULL,\n",
    "  `fixture_goals_away` INT NULL,\n",
    "  `fixture_team_home_is_winner` VARCHAR(45) NULL,\n",
    "  `fixture_team_away_is_winner` VARCHAR(45) NULL);\n",
    "    '''"
   ]
  },
  {
   "cell_type": "code",
   "execution_count": 75,
   "metadata": {
    "pycharm": {
     "name": "#%%\n"
    }
   },
   "outputs": [
    {
     "data": {
      "text/plain": "True"
     },
     "execution_count": 75,
     "metadata": {},
     "output_type": "execute_result"
    }
   ],
   "source": [
    "mycursor = db.cursor()\n",
    "\n",
    "mycursor.execute(sql_drop_fixtures)\n",
    "mycursor.execute(sql_create_fixtures)\n",
    "db.commit()\n",
    "mycursor.close()"
   ]
  },
  {
   "cell_type": "code",
   "execution_count": 76,
   "metadata": {
    "pycharm": {
     "name": "#%%\n"
    }
   },
   "outputs": [],
   "source": [
    "# Load fixtures from a json file - 41 is league one\n",
    "example_json_filepath = \"41.json\"\n",
    "\n",
    "# An output folder and output file name that are not used\n",
    "output_folder = \"output/\"\n",
    "new_file_name = \"output-file.json\"\n",
    "output_filepath = output_folder + new_file_name\n",
    "tuple_test = ()\n",
    "Path(output_folder).mkdir(parents=True, exist_ok=True)\n",
    "\n",
    "values_list = list()\n",
    "\n",
    "# Load the fixtures\n",
    "with open(example_json_filepath, 'r') as apiJson:\n",
    "    read_api = json.load(apiJson)\n",
    "\n",
    "    the_fixtures = read_api['FIXTURES']\n",
    "    last_fixture = the_fixtures[-1]\n",
    "\n",
    "    # The fixtures is a list of dicts\n",
    "    for index, value in enumerate(the_fixtures):\n",
    "        # Remove _id because that's for using a nosql database\n",
    "        value.pop('_id')\n",
    "\n",
    "        # Create a tuple of the values for the current fixture\n",
    "        temp_tuple = tuple(list(value.values()))\n",
    "\n",
    "        # Add the tuple to a list that will be used for inserting the whole list into the database\n",
    "        values_list.append(temp_tuple)\n"
   ]
  },
  {
   "cell_type": "code",
   "execution_count": 77,
   "metadata": {
    "pycharm": {
     "name": "#%%\n"
    }
   },
   "outputs": [
    {
     "name": "stdout",
     "output_type": "stream",
     "text": [
      "2022-03-06 22:15:09.242973\n",
      "0:00:00.140000\n"
     ]
    }
   ],
   "source": [
    "# The 15 keys of fixtures\n",
    "# 0 fixture_id\n",
    "# 1 fixture_utc_date\n",
    "# 2 fixture_date\n",
    "# 3 fixture_time\n",
    "# 4 fixture_status\n",
    "# 5 fixture_league_id\n",
    "# 6 fixture_round\n",
    "# 7 fixture_team_home_id\n",
    "# 8 fixture_team_away_id\n",
    "# 9 fixture_team_home_name\n",
    "# 10 fixture_team_away_name\n",
    "# 11 fixture_goals_home\n",
    "# 12 fixture_goals_away\n",
    "# 13 fixture_team_home_is_winner\n",
    "# 14 fixture_team_away_is_winner\n",
    "\n",
    "# These were used when I was only inserting one fixture into the database. Not needed now but keeping it here anyway\n",
    "# f_id = values_list[0]\n",
    "# f_utc = values_list[1]\n",
    "# f_date = values_list[2]\n",
    "# f_time = values_list[3]\n",
    "# f_status = values_list[4]\n",
    "# f_league_id = values_list[5]\n",
    "# f_round = values_list[6]\n",
    "# f_team_home_id = values_list[7]\n",
    "# f_team_away_id = values_list[8]\n",
    "# f_team_home_name = values_list[9]\n",
    "# f_team_away_name = values_list[10]\n",
    "# f_goals_home = values_list[11]\n",
    "# f_goals_away = values_list[12]\n",
    "# f_team_home_is_winner = values_list[13]\n",
    "# f_team_away_is_winner = values_list[14]\n",
    "\n",
    "# A list of values to insert\n",
    "# insert_list = [\n",
    "#     f_id,\n",
    "#     f_utc,\n",
    "#     f_date,\n",
    "#     f_time,\n",
    "#     f_status,\n",
    "#     f_league_id,\n",
    "#     f_round,\n",
    "#     f_team_home_id,\n",
    "#     f_team_away_id,\n",
    "#     f_team_home_name,\n",
    "#     f_team_away_name,\n",
    "#     f_goals_home,\n",
    "#     f_goals_away,\n",
    "#     f_team_home_is_winner,\n",
    "#     f_team_away_is_winner\n",
    "# ]\n",
    "\n",
    "\n",
    "# A tuple of values to insert. I wrote a tuple too because I was looking at the wrpng table in mysql workbench\n",
    "# and it was blank so I thought it was a problem with my code ha.\n",
    "# insert_values = (f_id,\n",
    "#                  f_utc,\n",
    "#                  f_date,\n",
    "#                  f_time,\n",
    "#                  f_status,\n",
    "#                  f_league_id,\n",
    "#                  f_round,\n",
    "#                  f_team_home_id,\n",
    "#                  f_team_away_id,\n",
    "#                  f_team_home_name,\n",
    "#                  f_team_away_name,\n",
    "#                  f_goals_home,\n",
    "#                  f_goals_away,\n",
    "#                  f_team_home_is_winner,\n",
    "#                  f_team_away_is_winner)\n",
    "\n",
    "\n",
    "sql_insert = '''insert into fixtures(\n",
    "             fixture_id,\n",
    "             fixture_utc_date,\n",
    "             fixture_date,\n",
    "             fixture_time,\n",
    "             fixture_status,\n",
    "             fixture_league_id,\n",
    "             fixture_round,\n",
    "             fixture_team_home_id,\n",
    "             fixture_team_away_id,\n",
    "             fixture_team_home_name,\n",
    "             fixture_team_away_name,\n",
    "             fixture_goals_home,\n",
    "             fixture_goals_away,\n",
    "             fixture_team_home_is_winner,\n",
    "             fixture_team_away_is_winner)\n",
    "             VALUES (%s, %s, %s, %s, %s, %s, %s,\n",
    "             %s, %s, %s, %s, %s, %s, %s, %s )'''\n",
    "\n",
    "try:\n",
    "    mycursor = db.cursor()\n",
    "    mycursor.executemany(sql_insert, values_list)\n",
    "    mycursor.close()\n",
    "    db.commit()\n",
    "    db.close()\n",
    "    end_time = time.monotonic()\n",
    "    print(datetime.now())\n",
    "    print(timedelta(seconds=end_time - start_time))\n",
    "except:\n",
    "    print('Sorry the database opertation did not work')"
   ]
  }
 ],
 "metadata": {
  "kernelspec": {
   "display_name": "Python 3 (ipykernel)",
   "language": "python",
   "name": "python3"
  },
  "language_info": {
   "codemirror_mode": {
    "name": "ipython",
    "version": 3
   },
   "file_extension": ".py",
   "mimetype": "text/x-python",
   "name": "python",
   "nbconvert_exporter": "python",
   "pygments_lexer": "ipython3",
   "version": "3.9.10"
  }
 },
 "nbformat": 4,
 "nbformat_minor": 1
}