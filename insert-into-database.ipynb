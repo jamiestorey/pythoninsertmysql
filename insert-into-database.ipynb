{
 "cells": [
  {
   "cell_type": "code",
   "execution_count": 36,
   "metadata": {
    "collapsed": true
   },
   "outputs": [],
   "source": []
  },
  {
   "cell_type": "code",
   "execution_count": 37,
   "outputs": [],
   "source": [
    "import json\n",
    "import os\n",
    "import mysql.connector\n",
    "from pathlib import Path\n",
    "from datetime import datetime\n",
    "from dotenv import load_dotenv\n",
    "\n",
    "load_dotenv(dotenv_path='credentials.env')\n",
    "\n",
    "football_api_key = os.getenv('footballapikey')\n",
    "mysql_host = os.getenv('mysqlhost')\n",
    "mysql_user = os.getenv('mysqluser')\n",
    "mysql_password = os.getenv('mysqlpassword')\n",
    "mysql_db = os.getenv('mysqldb')\n",
    "\n",
    "db = mysql.connector.connect(\n",
    "        host=mysql_host,\n",
    "        user=mysql_user,\n",
    "        password=mysql_password,\n",
    "        database=mysql_db,\n",
    "        port=3306,\n",
    "    )\n",
    "\n",
    "sql_drop_fixtures = \"DROP TABLE IF EXISTS `bulky`.`fixtures`;\"\n",
    "\n",
    "sql_create_fixtures = '''CREATE TABLE `bulky`.`fixtures` (\n",
    "  `fixture_id` INT NOT NULL,\n",
    "  `fixture_utc_date` DATETIME NULL,\n",
    "  `fixture_date` VARCHAR(45) NULL,\n",
    "  `fixture_time` VARCHAR(45) NULL,\n",
    "  `fixture_status` VARCHAR(45) NULL,\n",
    "  `fixture_league_id` INT NULL,\n",
    "  `fixture_round` VARCHAR(45) NULL,\n",
    "  `fixture_team_home_id` INT NULL,\n",
    "  `fixture_team_away_id` INT NULL,\n",
    "  `fixture_team_home_name` VARCHAR(45) NULL,\n",
    "  `fixture_team_away_name` VARCHAR(45) NULL,\n",
    "  `fixture_goals_home` INT NULL,\n",
    "  `fixture_goals_away` INT NULL,\n",
    "  `fixture_team_home_is_winner` VARCHAR(45) NULL,\n",
    "  `fixture_team_away_is_winner` VARCHAR(45) NULL);\n",
    "    '''"
   ],
   "metadata": {
    "collapsed": false,
    "pycharm": {
     "name": "#%%\n"
    }
   }
  },
  {
   "cell_type": "code",
   "execution_count": 38,
   "outputs": [
    {
     "data": {
      "text/plain": "True"
     },
     "execution_count": 38,
     "metadata": {},
     "output_type": "execute_result"
    }
   ],
   "source": [
    "mycursor = db.cursor()\n",
    "\n",
    "mycursor.execute(sql_drop_fixtures)\n",
    "mycursor.execute(sql_create_fixtures)\n",
    "db.commit()\n",
    "mycursor.close()"
   ],
   "metadata": {
    "collapsed": false,
    "pycharm": {
     "name": "#%%\n"
    }
   }
  },
  {
   "cell_type": "code",
   "execution_count": 39,
   "outputs": [
    {
     "name": "stdout",
     "output_type": "stream",
     "text": [
      "-1 _id\n",
      "0 fixture_id\n",
      "1 fixture_utc_date\n",
      "2 fixture_date\n",
      "3 fixture_time\n",
      "4 fixture_status\n",
      "5 fixture_league_id\n",
      "6 fixture_round\n",
      "7 fixture_team_home_id\n",
      "8 fixture_team_away_id\n",
      "9 fixture_team_home_name\n",
      "10 fixture_team_away_name\n",
      "11 fixture_goals_home\n",
      "12 fixture_goals_away\n",
      "13 fixture_team_home_is_winner\n",
      "14 fixture_team_away_is_winner\n",
      "{'_id': '6222a83d7fcdae45b1a95abf', 'fixture_id': 715967, 'fixture_utc_date': '2022-04-30 14:00:00+00:00', 'fixture_date': '30/04/2022', 'fixture_time': '14:00:00', 'fixture_status': 'Not Started', 'fixture_league_id': 41, 'fixture_round': 'Regular Season - 46', 'fixture_team_home_id': 1352, 'fixture_team_away_id': 61, 'fixture_team_home_name': 'Shrewsbury', 'fixture_team_away_name': 'Wigan', 'fixture_goals_home': -111, 'fixture_goals_away': -222, 'fixture_team_home_is_winner': 'NA', 'fixture_team_away_is_winner': 'NA'}\n",
      "<class 'dict'>\n",
      "_id : 6222a83d7fcdae45b1a95abf\n",
      "fixture_id : 715967\n",
      "fixture_utc_date : 2022-04-30 14:00:00+00:00\n",
      "fixture_date : 30/04/2022\n",
      "fixture_time : 14:00:00\n",
      "fixture_status : Not Started\n",
      "fixture_league_id : 41\n",
      "fixture_round : Regular Season - 46\n",
      "fixture_team_home_id : 1352\n",
      "fixture_team_away_id : 61\n",
      "fixture_team_home_name : Shrewsbury\n",
      "fixture_team_away_name : Wigan\n",
      "fixture_goals_home : -111\n",
      "fixture_goals_away : -222\n",
      "fixture_team_home_is_winner : NA\n",
      "fixture_team_away_is_winner : NA\n",
      "[(715967,), ('2022-04-30 14:00:00+00:00',), ('30/04/2022',), ('14:00:00',), ('Not Started',), (41,), ('Regular Season - 46',), (1352,), (61,), ('Shrewsbury',), ('Wigan',), (-111,), (-222,), ('NA',), ('NA',)]\n"
     ]
    }
   ],
   "source": [
    "example_json_filepath = \"41.json\"\n",
    "output_folder = \"output/\"\n",
    "new_file_name = \"output-file.json\"\n",
    "output_filepath = output_folder + new_file_name\n",
    "tuple_test = ()\n",
    "Path(output_folder).mkdir(parents=True, exist_ok=True)\n",
    "\n",
    "values_list = list()\n",
    "\n",
    "with open(example_json_filepath, 'r') as apiJson:\n",
    "    read_api = json.load(apiJson)\n",
    "\n",
    "    the_fixtures = read_api['FIXTURES']\n",
    "    last_fixture = the_fixtures[-1]\n",
    "\n",
    "    for index, value in enumerate(last_fixture):\n",
    "        print(index -1, value)\n",
    "    print(last_fixture)\n",
    "    print(type(last_fixture))\n",
    "\n",
    "    for key, value in last_fixture.items():\n",
    "            print(key, ':', value)\n",
    "            if key == '_id':\n",
    "                continue\n",
    "            values_list.append(value)\n",
    "\n",
    "    tuples = list(zip(values_list))\n",
    "    print(tuples)"
   ],
   "metadata": {
    "collapsed": false,
    "pycharm": {
     "name": "#%%\n"
    }
   }
  },
  {
   "cell_type": "code",
   "execution_count": 40,
   "outputs": [
    {
     "name": "stdout",
     "output_type": "stream",
     "text": [
      "[715967, '2022-04-30 14:00:00+00:00', '30/04/2022', '14:00:00', 'Not Started', 41, 'Regular Season - 46', 1352, 61, 'Shrewsbury', 'Wigan', -111, -222, 'NA', 'NA']\n",
      "DONE :)\n"
     ]
    }
   ],
   "source": [
    "# 0 fixture_id\n",
    "# 1 fixture_utc_date\n",
    "# 2 fixture_date\n",
    "# 3 fixture_time\n",
    "# 4 fixture_status\n",
    "# 5 fixture_league_id\n",
    "# 6 fixture_round\n",
    "# 7 fixture_team_home_id\n",
    "# 8 fixture_team_away_id\n",
    "# 9 fixture_team_home_name\n",
    "# 10 fixture_team_away_name\n",
    "# 11 fixture_goals_home\n",
    "# 12 fixture_goals_away\n",
    "# 13 fixture_team_home_is_winner\n",
    "# 14 fixture_team_away_is_winner\n",
    "\n",
    "mycursor = db.cursor()\n",
    "\n",
    "f_id = values_list[0]\n",
    "f_utc = values_list[1]\n",
    "f_date = values_list[2]\n",
    "f_time = values_list[3]\n",
    "f_status = values_list[4]\n",
    "f_league_id = values_list[5]\n",
    "f_round = values_list[6]\n",
    "f_team_home_id = values_list[7]\n",
    "f_team_away_id = values_list[8]\n",
    "f_team_home_name = values_list[9]\n",
    "f_team_away_name = values_list[10]\n",
    "f_goals_home = values_list[11]\n",
    "f_goals_away = values_list[12]\n",
    "f_team_home_is_winner = values_list[13]\n",
    "f_team_away_is_winner = values_list[14]\n",
    "\n",
    "\n",
    "insert_list = [\n",
    "    f_id,\n",
    "    f_utc,\n",
    "    f_date,\n",
    "    f_time,\n",
    "    f_status,\n",
    "    f_league_id,\n",
    "    f_round,\n",
    "    f_team_home_id,\n",
    "    f_team_away_id,\n",
    "    f_team_home_name,\n",
    "    f_team_away_name,\n",
    "    f_goals_home,\n",
    "    f_goals_away,\n",
    "    f_team_home_is_winner,\n",
    "    f_team_away_is_winner\n",
    "]\n",
    "print(insert_list)\n",
    "\n",
    "insert_values = (f_id,\n",
    "                 f_utc,\n",
    "                 f_date,\n",
    "                 f_time,\n",
    "                 f_status,\n",
    "                 f_league_id,\n",
    "                 f_round,\n",
    "                 f_team_home_id,\n",
    "                 f_team_away_id,\n",
    "                 f_team_home_name,\n",
    "                 f_team_away_name,\n",
    "                 f_goals_home,\n",
    "                 f_goals_away,\n",
    "                 f_team_home_is_winner,\n",
    "                 f_team_away_is_winner)\n",
    "\n",
    "\n",
    "sql_insert = '''insert into fixtures(\n",
    "             fixture_id,\n",
    "             fixture_utc_date,\n",
    "             fixture_date,\n",
    "             fixture_time,\n",
    "             fixture_status,\n",
    "             fixture_league_id,\n",
    "             fixture_round,\n",
    "             fixture_team_home_id,\n",
    "             fixture_team_away_id,\n",
    "             fixture_team_home_name,\n",
    "             fixture_team_away_name,\n",
    "             fixture_goals_home,\n",
    "             fixture_goals_away,\n",
    "             fixture_team_home_is_winner,\n",
    "             fixture_team_away_is_winner)\n",
    "             VALUES (%s, %s, %s, %s, %s, %s, %s,\n",
    "             %s, %s, %s, %s, %s, %s, %s, %s )'''\n",
    "\n",
    "\n",
    "\n",
    "mycursor.execute(sql_insert, insert_list)\n",
    "mycursor.close()\n",
    "db.commit()\n",
    "db.close()\n",
    "print(\"DONE :)\")"
   ],
   "metadata": {
    "collapsed": false,
    "pycharm": {
     "name": "#%%\n"
    }
   }
  }
 ],
 "metadata": {
  "kernelspec": {
   "display_name": "Python 3",
   "language": "python",
   "name": "python3"
  },
  "language_info": {
   "codemirror_mode": {
    "name": "ipython",
    "version": 2
   },
   "file_extension": ".py",
   "mimetype": "text/x-python",
   "name": "python",
   "nbconvert_exporter": "python",
   "pygments_lexer": "ipython2",
   "version": "2.7.6"
  }
 },
 "nbformat": 4,
 "nbformat_minor": 0
}